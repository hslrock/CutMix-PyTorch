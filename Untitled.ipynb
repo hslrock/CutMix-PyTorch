{
 "cells": [
  {
   "cell_type": "code",
   "execution_count": 136,
   "id": "56392b05",
   "metadata": {},
   "outputs": [],
   "source": [
    "import torch\n",
    "import torch.nn as nn"
   ]
  },
  {
   "cell_type": "code",
   "execution_count": 137,
   "id": "1b26338e",
   "metadata": {},
   "outputs": [],
   "source": [
    "import random"
   ]
  },
  {
   "cell_type": "code",
   "execution_count": 142,
   "id": "efd5dcf9",
   "metadata": {},
   "outputs": [
    {
     "data": {
      "text/plain": [
       "'마라탕'"
      ]
     },
     "execution_count": 142,
     "metadata": {},
     "output_type": "execute_result"
    }
   ],
   "source": [
    "random.choice(['마라탕','마제소바','이세돈까스'])"
   ]
  },
  {
   "cell_type": "code",
   "execution_count": 100,
   "id": "3c76d068",
   "metadata": {},
   "outputs": [],
   "source": [
    "code_book=torch.randint(0,10,size=(4,10)).float()\n",
    "subvec=torch.randint(0,10,size=(2,10)).float()\n"
   ]
  },
  {
   "cell_type": "code",
   "execution_count": 106,
   "id": "6b5a6791",
   "metadata": {},
   "outputs": [],
   "source": [
    "code_book=torch.tensor([[-0.0007,0.0017],[-0.0016,0.0017],[-0.0206,0.0015],[-0.0010,0.0017]])"
   ]
  },
  {
   "cell_type": "code",
   "execution_count": 113,
   "id": "cd0903a9",
   "metadata": {},
   "outputs": [
    {
     "data": {
      "text/plain": [
       "tensor([[-0.0007,  0.0017],\n",
       "        [-0.0016,  0.0017],\n",
       "        [-0.0206,  0.0015],\n",
       "        [-0.0010,  0.0017]])"
      ]
     },
     "execution_count": 113,
     "metadata": {},
     "output_type": "execute_result"
    }
   ],
   "source": [
    "code_book #K=4 * codeword len"
   ]
  },
  {
   "cell_type": "code",
   "execution_count": 115,
   "id": "d67be945",
   "metadata": {},
   "outputs": [
    {
     "data": {
      "text/plain": [
       "tensor([[-0.0160,  0.0340]])"
      ]
     },
     "execution_count": 115,
     "metadata": {},
     "output_type": "execute_result"
    }
   ],
   "source": [
    "subvec"
   ]
  },
  {
   "cell_type": "code",
   "execution_count": 117,
   "id": "6ea564d0",
   "metadata": {},
   "outputs": [],
   "source": [
    "subvec=torch.tensor([[-0.016,0.034],[-0.016,0.034]])\n"
   ]
  },
  {
   "cell_type": "code",
   "execution_count": 118,
   "id": "a3b510c3",
   "metadata": {},
   "outputs": [
    {
     "data": {
      "text/plain": [
       "torch.Size([2, 2])"
      ]
     },
     "execution_count": 118,
     "metadata": {},
     "output_type": "execute_result"
    }
   ],
   "source": [
    "subvec.shape"
   ]
  },
  {
   "cell_type": "code",
   "execution_count": 119,
   "id": "989e38ea",
   "metadata": {},
   "outputs": [
    {
     "data": {
      "text/plain": [
       "tensor([[-0.0160,  0.0340],\n",
       "        [-0.0160,  0.0340]])"
      ]
     },
     "execution_count": 119,
     "metadata": {},
     "output_type": "execute_result"
    }
   ],
   "source": [
    "subvec"
   ]
  },
  {
   "cell_type": "code",
   "execution_count": 120,
   "id": "220867e5",
   "metadata": {},
   "outputs": [
    {
     "data": {
      "text/plain": [
       "torch.Size([2, 4, 2])"
      ]
     },
     "execution_count": 120,
     "metadata": {},
     "output_type": "execute_result"
    }
   ],
   "source": [
    "(subvec.unsqueeze(1) - code_book.unsqueeze(0)).shape"
   ]
  },
  {
   "cell_type": "code",
   "execution_count": 124,
   "id": "18098694",
   "metadata": {},
   "outputs": [
    {
     "data": {
      "text/plain": [
       "tensor([[[-0.0153,  0.0323],\n",
       "         [-0.0144,  0.0323],\n",
       "         [ 0.0046,  0.0325],\n",
       "         [-0.0150,  0.0323]],\n",
       "\n",
       "        [[-0.0153,  0.0323],\n",
       "         [-0.0144,  0.0323],\n",
       "         [ 0.0046,  0.0325],\n",
       "         [-0.0150,  0.0323]]])"
      ]
     },
     "execution_count": 124,
     "metadata": {},
     "output_type": "execute_result"
    }
   ],
   "source": [
    "subvec.unsqueeze(1) - code_book.unsqueeze(0)"
   ]
  },
  {
   "cell_type": "code",
   "execution_count": 132,
   "id": "86e84ecd",
   "metadata": {},
   "outputs": [
    {
     "data": {
      "text/plain": [
       "tensor([[[2.3409e-04, 1.0433e-03],\n",
       "         [2.0736e-04, 1.0433e-03],\n",
       "         [2.1160e-05, 1.0563e-03],\n",
       "         [2.2500e-04, 1.0433e-03]],\n",
       "\n",
       "        [[2.3409e-04, 1.0433e-03],\n",
       "         [2.0736e-04, 1.0433e-03],\n",
       "         [2.1160e-05, 1.0563e-03],\n",
       "         [2.2500e-04, 1.0433e-03]]])"
      ]
     },
     "execution_count": 132,
     "metadata": {},
     "output_type": "execute_result"
    }
   ],
   "source": [
    "(subvec.unsqueeze(1) - code_book.unsqueeze(0))**2"
   ]
  },
  {
   "cell_type": "code",
   "execution_count": 133,
   "id": "474f9a19",
   "metadata": {},
   "outputs": [
    {
     "data": {
      "text/plain": [
       "0.00127739"
      ]
     },
     "execution_count": 133,
     "metadata": {},
     "output_type": "execute_result"
    }
   ],
   "source": [
    "2.3409e-04+1.0433e-03"
   ]
  },
  {
   "cell_type": "code",
   "execution_count": 130,
   "id": "88209011",
   "metadata": {},
   "outputs": [
    {
     "data": {
      "text/plain": [
       "0.00046818"
      ]
     },
     "execution_count": 130,
     "metadata": {},
     "output_type": "execute_result"
    }
   ],
   "source": [
    "2.3409e-04*2"
   ]
  },
  {
   "cell_type": "code",
   "execution_count": 135,
   "id": "7519edb4",
   "metadata": {},
   "outputs": [
    {
     "data": {
      "text/plain": [
       "tensor([[0.0013, 0.0013, 0.0011, 0.0013],\n",
       "        [0.0013, 0.0013, 0.0011, 0.0013]])"
      ]
     },
     "execution_count": 135,
     "metadata": {},
     "output_type": "execute_result"
    }
   ],
   "source": [
    "((subvec.unsqueeze(1) - code_book.unsqueeze(0))**2).sum(dim=-1)"
   ]
  },
  {
   "cell_type": "code",
   "execution_count": 87,
   "id": "8b500f15",
   "metadata": {},
   "outputs": [],
   "source": [
    "prob = torch.softmax(-((subvec.unsqueeze(1) - code_book.unsqueeze(0))**2).sum(dim=-1), dim=-1)"
   ]
  },
  {
   "cell_type": "code",
   "execution_count": 88,
   "id": "f0946864",
   "metadata": {},
   "outputs": [
    {
     "data": {
      "text/plain": [
       "tensor([[1.0000e+00, 1.3888e-11, 3.0590e-07, 2.0305e-42],\n",
       "        [4.2484e-18, 2.5437e-13, 0.0000e+00, 1.0000e+00]])"
      ]
     },
     "execution_count": 88,
     "metadata": {},
     "output_type": "execute_result"
    }
   ],
   "source": [
    "prob"
   ]
  },
  {
   "cell_type": "code",
   "execution_count": 89,
   "id": "92c3af22",
   "metadata": {},
   "outputs": [
    {
     "name": "stderr",
     "output_type": "stream",
     "text": [
      "C:\\Users\\admin\\AppData\\Local\\Temp/ipykernel_3884/592381673.py:3: UserWarning: Implicit dimension choice for softmax has been deprecated. Change the call to include dim=X as an argument.\n",
      "  nn.Softmax()((torch.tensor([((sample_data-code_book[idx])**2).sum(dim=0) for idx in range(4)])))\n"
     ]
    },
    {
     "data": {
      "text/plain": [
       "tensor([2.0305e-42, 1.4625e-31, 6.6397e-36, 1.0000e+00])"
      ]
     },
     "execution_count": 89,
     "metadata": {},
     "output_type": "execute_result"
    }
   ],
   "source": [
    "sample_data=subvec[0]\n",
    "sample_data\n",
    "nn.Softmax()((torch.tensor([((sample_data-code_book[idx])**2).sum(dim=0) for idx in range(4)])))"
   ]
  },
  {
   "cell_type": "code",
   "execution_count": null,
   "id": "da4dbb10",
   "metadata": {},
   "outputs": [],
   "source": []
  },
  {
   "cell_type": "code",
   "execution_count": null,
   "id": "6829d552",
   "metadata": {},
   "outputs": [],
   "source": []
  },
  {
   "cell_type": "code",
   "execution_count": 45,
   "id": "845a6c5a",
   "metadata": {},
   "outputs": [
    {
     "data": {
      "text/plain": [
       "torch.Size([4])"
      ]
     },
     "execution_count": 45,
     "metadata": {},
     "output_type": "execute_result"
    }
   ],
   "source": [
    ".shape"
   ]
  },
  {
   "cell_type": "code",
   "execution_count": 46,
   "id": "bb9c604b",
   "metadata": {},
   "outputs": [
    {
     "name": "stderr",
     "output_type": "stream",
     "text": [
      "C:\\Users\\admin\\AppData\\Local\\Temp/ipykernel_3884/2196871487.py:1: UserWarning: Implicit dimension choice for softmax has been deprecated. Change the call to include dim=X as an argument.\n",
      "  nn.Softmax()(torch.tensor([((sample_data-x[idx])**2).sum(dim=0) for idx in range(4)]))\n"
     ]
    },
    {
     "data": {
      "text/plain": [
       "tensor([2.9375e-30, 1.0000e+00, 2.0305e-42, 3.6251e-34])"
      ]
     },
     "execution_count": 46,
     "metadata": {},
     "output_type": "execute_result"
    }
   ],
   "source": []
  },
  {
   "cell_type": "code",
   "execution_count": 10,
   "id": "c2a802db",
   "metadata": {},
   "outputs": [
    {
     "name": "stderr",
     "output_type": "stream",
     "text": [
      "C:\\Users\\admin\\AppData\\Local\\Temp/ipykernel_3884/2835296501.py:1: UserWarning: Implicit dimension choice for softmax has been deprecated. Change the call to include dim=X as an argument.\n",
      "  val=nn.Softmax()(x)\n"
     ]
    }
   ],
   "source": [
    "val=nn.Softmax()(x)"
   ]
  },
  {
   "cell_type": "code",
   "execution_count": 11,
   "id": "d2e3146e",
   "metadata": {},
   "outputs": [
    {
     "data": {
      "text/plain": [
       "tensor(1.0000)"
      ]
     },
     "execution_count": 11,
     "metadata": {},
     "output_type": "execute_result"
    }
   ],
   "source": [
    "val.sum()"
   ]
  },
  {
   "cell_type": "code",
   "execution_count": 5,
   "id": "93a01ef9",
   "metadata": {},
   "outputs": [
    {
     "ename": "NameError",
     "evalue": "name 'y' is not defined",
     "output_type": "error",
     "traceback": [
      "\u001b[1;31m---------------------------------------------------------------------------\u001b[0m",
      "\u001b[1;31mNameError\u001b[0m                                 Traceback (most recent call last)",
      "\u001b[1;32m~\\AppData\\Local\\Temp/ipykernel_3884/1363601754.py\u001b[0m in \u001b[0;36m<module>\u001b[1;34m\u001b[0m\n\u001b[1;32m----> 1\u001b[1;33m \u001b[0mnn\u001b[0m\u001b[1;33m.\u001b[0m\u001b[0mKLDivLoss\u001b[0m\u001b[1;33m(\u001b[0m\u001b[0mx\u001b[0m\u001b[1;33m,\u001b[0m\u001b[0my\u001b[0m\u001b[1;33m)\u001b[0m\u001b[1;33m\u001b[0m\u001b[1;33m\u001b[0m\u001b[0m\n\u001b[0m",
      "\u001b[1;31mNameError\u001b[0m: name 'y' is not defined"
     ]
    }
   ],
   "source": [
    "nn.KLDivLoss(x,y)"
   ]
  },
  {
   "cell_type": "code",
   "execution_count": null,
   "id": "068efee9",
   "metadata": {},
   "outputs": [],
   "source": []
  }
 ],
 "metadata": {
  "kernelspec": {
   "display_name": "Python 3 (ipykernel)",
   "language": "python",
   "name": "python3"
  },
  "language_info": {
   "codemirror_mode": {
    "name": "ipython",
    "version": 3
   },
   "file_extension": ".py",
   "mimetype": "text/x-python",
   "name": "python",
   "nbconvert_exporter": "python",
   "pygments_lexer": "ipython3",
   "version": "3.9.7"
  }
 },
 "nbformat": 4,
 "nbformat_minor": 5
}
